{
 "cells": [
  {
   "cell_type": "code",
   "execution_count": 37,
   "id": "447a06b9",
   "metadata": {},
   "outputs": [
    {
     "name": "stdout",
     "output_type": "stream",
     "text": [
      "<mysql.connector.connection.MySQLConnection object at 0x0000020116B1E520>\n"
     ]
    }
   ],
   "source": [
    "import pymysql\n",
    "import mysql.connector as sql\n",
    "mydb= sql.connect(\n",
    "    host='localhost',\n",
    "    user= 'root',\n",
    "    passwd='Colonies6)',\n",
    "    database='mydatabase',\n",
    "    use_pure= True\n",
    "    \n",
    ")\n",
    "print (mydb)"
   ]
  },
  {
   "cell_type": "code",
   "execution_count": 2,
   "id": "8a79f83e",
   "metadata": {},
   "outputs": [],
   "source": [
    "#mycursor.execute('SET [GLOBAL | SESSION] TRANSACTION { ISOLATION LEVEL level | access_mode}')"
   ]
  },
  {
   "cell_type": "code",
   "execution_count": 38,
   "id": "69b4028b",
   "metadata": {},
   "outputs": [],
   "source": [
    "mycursor= mydb.cursor()\n"
   ]
  },
  {
   "cell_type": "code",
   "execution_count": 12,
   "id": "a3add726",
   "metadata": {},
   "outputs": [],
   "source": [
    "#mycursor.execute('CREATE DATABASE SGAE_Practica')"
   ]
  },
  {
   "cell_type": "code",
   "execution_count": 39,
   "id": "eda8923c",
   "metadata": {},
   "outputs": [],
   "source": [
    "mycursor.execute('START TRANSACTION') ;\n",
    "mycursor.execute('transaction-isolation' == 'READ COMMITTED')"
   ]
  },
  {
   "cell_type": "code",
   "execution_count": 40,
   "id": "f982fc9f",
   "metadata": {},
   "outputs": [],
   "source": [
    "mycursor.execute('SHOW DATABASES')"
   ]
  },
  {
   "cell_type": "code",
   "execution_count": 41,
   "id": "88c0e289",
   "metadata": {},
   "outputs": [
    {
     "name": "stdout",
     "output_type": "stream",
     "text": [
      "('information_schema',)\n",
      "('movies',)\n",
      "('mydatabase',)\n",
      "('mysql',)\n",
      "('new_schema',)\n",
      "('performance_schema',)\n",
      "('sakila',)\n",
      "('sgae_practica',)\n",
      "('sys',)\n",
      "('world',)\n"
     ]
    }
   ],
   "source": [
    "for bd in mycursor:\n",
    "    print(bd)"
   ]
  },
  {
   "cell_type": "code",
   "execution_count": 42,
   "id": "c4d1a8cf",
   "metadata": {},
   "outputs": [],
   "source": [
    "mycursor.execute('USE SGAE_Practica');"
   ]
  },
  {
   "cell_type": "code",
   "execution_count": 43,
   "id": "0d0b0926",
   "metadata": {},
   "outputs": [
    {
     "name": "stdout",
     "output_type": "stream",
     "text": [
      "MySQLCursor: USE SGAE_Practica\n"
     ]
    }
   ],
   "source": [
    "print(mycursor)"
   ]
  },
  {
   "cell_type": "code",
   "execution_count": 9,
   "id": "a9ed45a1",
   "metadata": {},
   "outputs": [],
   "source": [
    "#SET TRANSACTION"
   ]
  },
  {
   "cell_type": "code",
   "execution_count": null,
   "id": "1f315ae3",
   "metadata": {},
   "outputs": [],
   "source": [
    "mycursor.execute('CREATE SCHEMA movies')"
   ]
  },
  {
   "cell_type": "code",
   "execution_count": 14,
   "id": "ccbc9fcb",
   "metadata": {},
   "outputs": [],
   "source": [
    "mycursor.execute(\"CREATE TABLE movies.tb_genre(genre_id INTEGER NOT NULL, genre_name VARCHAR(40) NOT NULL, created_by_user VARCHAR(10) NOT NULL DEFAULT 'OS_SGAD', created_date DATE, updated_date DATE, CONSTRAINT pk_genre PRIMARY KEY (genre_id))\")"
   ]
  },
  {
   "cell_type": "code",
   "execution_count": null,
   "id": "d2ab8b76",
   "metadata": {},
   "outputs": [],
   "source": [
    "mycursor.execute(\"CREATE TABLE movies.tb_movie(movie_id INTEGER NOT NULL, movie_title VARCHAR(100) NOT NULL, movie_date DATE, movie_format VARCHAR(50), movie_genre_id INTEGER, created_by_user VARCHAR(10) NOT NULL DEFAULT 'OS_SGAD', created_date DATE, updated_date DATE, CONSTRAINT pk_movie PRIMARY KEY (movie_id), CONSTRAINT fk_movie_genre FOREIGN KEY (movie_genre_id) REFERENCES tb_genre(genre_id))\")"
   ]
  },
  {
   "cell_type": "code",
   "execution_count": 19,
   "id": "47733828",
   "metadata": {},
   "outputs": [],
   "source": [
    "mycursor.execute(\"CREATE TABLE movies.tb_role(role_id INTEGER NOT NULL, role_name VARCHAR(60) NOT NULL, created_by_user VARCHAR(10) NOT NULL DEFAULT 'OS_SGAD', created_date DATE, updated_date DATE, CONSTRAINT pk_role PRIMARY KEY (role_id))\")"
   ]
  },
  {
   "cell_type": "code",
   "execution_count": 20,
   "id": "4ba003e3",
   "metadata": {},
   "outputs": [],
   "source": [
    "mycursor.execute(\"CREATE TABLE movies.tb_person ( person_id INTEGER NOT NULL, person_name VARCHAR(100) NOT NULL, person_country VARCHAR(40), person_dob DATE NOT NULL, person_dod DATE, person_parent_id INTEGER, created_by_user VARCHAR(10) NOT NULL DEFAULT 'OS_SGAD', created_date DATE, updated_date DATE, CONSTRAINT pk_person PRIMARY KEY (person_id), CONSTRAINT fk_person_parent FOREIGN KEY (person_parent_id) REFERENCES tb_person(person_id))\")"
   ]
  },
  {
   "cell_type": "code",
   "execution_count": 14,
   "id": "b27c035c",
   "metadata": {},
   "outputs": [],
   "source": [
    "mycursor.execute(\"CREATE TABLE movies.tb_movie_person(movie_id INTEGER NOT NULL, person_id INTEGER NOT NULL, role_id INTEGER NOT NULL, movie_award_ind CHAR(1) NOT NULL, created_by_user VARCHAR(10) NOT NULL DEFAULT 'OS_SGAD', created_date DATE, updated_date DATE, CONSTRAINT pk_movper PRIMARY KEY (movie_id, person_id, role_id), CONSTRAINT fk_movper_movie FOREIGN KEY (movie_id) REFERENCES tb_movie(movie_id), CONSTRAINT fk_movper_person FOREIGN KEY (person_id) REFERENCES tb_person (person_id), CONSTRAINT fk_movper_role FOREIGN KEY (role_id) REFERENCES tb_role(role_id))\") "
   ]
  },
  {
   "cell_type": "code",
   "execution_count": 16,
   "id": "dd6b26aa",
   "metadata": {},
   "outputs": [],
   "source": [
    "mycursor.execute(\"COMMIT\")"
   ]
  },
  {
   "cell_type": "code",
   "execution_count": 15,
   "id": "92020c4c",
   "metadata": {},
   "outputs": [],
   "source": [
    "mycursor.execute(\"INSERT INTO movies.tb_genre(genre_id,genre_name) VALUES(1, 'Acción')\")"
   ]
  },
  {
   "cell_type": "code",
   "execution_count": 17,
   "id": "ebfef3e1",
   "metadata": {},
   "outputs": [],
   "source": [
    "mycursor.execute(\"INSERT INTO movies.tb_genre(genre_id, genre_name)VALUES ( 2, 'Ciencia Ficción'),(3, 'Comedia')\")"
   ]
  },
  {
   "cell_type": "code",
   "execution_count": 18,
   "id": "ec2e800e",
   "metadata": {},
   "outputs": [],
   "source": [
    "mycursor.execute(\"INSERT INTO movies.tb_genre(genre_id, genre_name)VALUES (4, 'Drama')\")"
   ]
  },
  {
   "cell_type": "code",
   "execution_count": 19,
   "id": "19bcbb41",
   "metadata": {},
   "outputs": [],
   "source": [
    "mycursor.execute(\"INSERT INTO movies.tb_genre (genre_id, genre_name, created_by_user) VALUES ( 5, 'Fantasía', 'apermag')\")"
   ]
  },
  {
   "cell_type": "code",
   "execution_count": 20,
   "id": "44d38ef0",
   "metadata": {},
   "outputs": [],
   "source": [
    "mycursor.execute(\"INSERT INTO movies.tb_genre (genre_id, genre_name, created_by_user, created_date, updated_date) VALUES ( 6, 'Melodrama', 'apermag', '2018-09-01', '2018-09-27')\")"
   ]
  },
  {
   "cell_type": "code",
   "execution_count": 21,
   "id": "36678afc",
   "metadata": {},
   "outputs": [],
   "source": [
    "mycursor.execute(\"INSERT INTO movies.tb_genre (genre_id, genre_name) VALUES ( 7, 'Musical'), (8, 'Romance'), (9, 'Suspense'), (10, 'Terror'), (11, 'Bélico')\")"
   ]
  },
  {
   "cell_type": "code",
   "execution_count": 22,
   "id": "6b965306",
   "metadata": {},
   "outputs": [],
   "source": [
    "mycursor.execute(\"INSERT INTO movies.tb_movie (movie_id, movie_title, movie_date, movie_format, movie_genre_id) VALUES ( 1, 'Apocalypse Now', '1979-05-10', 'Film', 11),( 2, 'Star Wars:Episode IV - A New Hope', '1977-05-25', 'Film', 2),( 3, 'Indiana Jones and the Temple of Doom', '1984-05-08', 'Film', 1),( 4, 'The Terminal', '2004-06-18', 'Digital', 3), ( 5, 'Jaws', '1975-01-01', 'Film', 10),( 6, 'ET The Extraterrestrial', '1982-07-25', 'Film', 5),( 7, 'Psycho', '1960-05-06', 'Film', 9),( 8, 'Ocho Apellidos Vascos', '2014-03-14', 'Digital', 3),( 9, 'Ocho Apellidos Catalanes', '2016-06-09', 'Digital', 8),(10, 'El otro lado de la cama', '2002-09-04', 'Digital', 8), (11, 'La Gran Familia Española', '2012-10-15', 'Digital', 3), (12, 'El dia de la bestia', '1994-12-25', 'Film', 1),(13, 'Braveheart', '1995-08-08', 'Film', 4),(14, 'The Shawshank Redemption', '1992-01-07', 'Film', 4), (15, 'Las brujas de Zugarramurdi', '2009-10-07', 'Digital', 9),(16, 'Blade Runner', '1982-12-25', 'Digital', 2)\")"
   ]
  },
  {
   "cell_type": "code",
   "execution_count": 23,
   "id": "f40c2453",
   "metadata": {},
   "outputs": [],
   "source": [
    "mycursor.execute(\"INSERT INTO movies.tb_role (role_id, role_name) VALUES ( 1, 'Actor'),( 2, 'Director'), ( 3, 'Productor'), ( 4, 'Guionista'), ( 5, 'Música')\")"
   ]
  },
  {
   "cell_type": "code",
   "execution_count": 24,
   "id": "244ed45a",
   "metadata": {},
   "outputs": [],
   "source": [
    "mycursor.execute(\"INSERT INTO movies.tb_person (person_id, person_name, person_country, person_dob, person_dod, person_parent_id) VALUES ( 1, 'Francis Ford Coppola', 'United States', '1939-04-07', NULL, NULL), ( 2, 'Carmine Coppola', 'United States', '1945-07-08', NULL, NULL),( 3, 'Marlon Brando', 'United States', '1924-04-03', '2004-07-01', NULL), ( 4, 'Robert Duvall', 'United States', '1931-01-05', NULL, NULL),( 5, 'Martin Sheen', 'United States', '1940-08-03', NULL, NULL),( 6, 'Harrison Ford', 'United States', '1942-07-13', NULL, NULL), ( 7, 'George Lucas', 'United States', '1944-05-14', NULL, NULL), ( 8, 'Gary Kurtz', 'United States', '1940-07-27', NULL, NULL), ( 9, 'Steven Spielberg', 'United States', '1946-12-18', NULL, NULL), (10, 'John Williams', 'United States', '1928-08-08', NULL, NULL),(11, 'Tom Hanks', 'United States', '1956-07-09', NULL, NULL), (12, 'Catherine Zeta-Jones', 'Wales', '1969-09-25', NULL, NULL),(13, 'Alfred Joseph Hitchcock', 'United Kingdom', '1899-08-13', '1980-04-29', NULL), (14, 'Anthony Perkins', 'United States', '1934-04-04', '1992-09-08', NULL), (15, 'Vera Miles', 'United States', '1929-08-23', NULL, NULL), (16, 'Emilio Martinez Lazaro', 'Spain', '1956-09-09', NULL, NULL), (17, 'Dani Rovira', 'Spain', '1984-07-01', NULL, NULL),(18, 'Clara Lago', 'Spain', '1986-04-17', NULL, NULL),(19, 'Carmen Machi', 'Spain', '1964-08-09', NULL, NULL), (20, 'Karra Elejalde', 'Spain', '1960-03-06', NULL, NULL),(21, 'Daniel Sanchez Arevalo', 'Spain', '1970-06-08', NULL, NULL),(22, 'Quim Gutierrez', 'Spain', '1981-03-27', NULL, NULL), (23, 'Robert Alamo', 'Spain', '1970-05-06', NULL, NULL), (24, 'Hector Colome', 'Spain', '1944-10-25', '2015-02-28', NULL),(25, 'Veronica Echegui', 'Spain', '1983-03-14', NULL, NULL),(26, 'Patrick Criado', 'Spain', '1995-09-23', NULL, NULL), (27, 'Sean Connery', 'Scotland', '1930-07-08', NULL, NULL), (28, 'Mel Gibson', 'Australia', '1950-08-09', NULL, NULL), (29, 'Morgan Freeman', 'United States', '1935-10-01', NULL, NULL), (30, 'Tim Robbins', 'United States', '1949-06-07', NULL, NULL),(41, 'Charlie Sheen', 'United States', '1965-09-03', NULL, 5), (42, 'Emilio Estevez', 'United States', '1962-05-12', NULL, 5), (43, 'Ramón Estevez', 'United States', '1963-08-07', NULL, 5), (44, 'Reneé Estevez', 'United States', '1967-04-02', NULL, 5),(45, 'Paula Speert Sheen', 'United States', '1986-01-06', NULL,41),(46, 'Bob Sheen', 'United States', '2009-05-01', NULL,41), (47, 'Max Sheen', 'United States', '2009-05-01', NULL,41),(48, 'Sam Sheen', 'United States', '2004-03-09', NULL,41),(49, 'Lola Sheen', 'United States', '2005-06-01', NULL,41), (50, 'Paula Jones-Sheen', 'United States', '2003-07-06', NULL,45), (51, 'Paloma Rae Estevez', 'United States', '1986-02-15', NULL,42), (52, 'Taylor Levi Estevez', 'United States', '1984-06-22', NULL,42)\")"
   ]
  },
  {
   "cell_type": "code",
   "execution_count": 25,
   "id": "d1a35b93",
   "metadata": {},
   "outputs": [],
   "source": [
    "mycursor.execute(\"INSERT INTO movies.tb_movie_person (movie_id, person_id, role_id, movie_award_ind) VALUES ( 1, 1, 2, 'Y'),( 1, 1, 3, 'N'), ( 1, 1, 5, 'N'), ( 1, 2, 5, 'N'),( 1, 3, 1, 'N'),( 1, 4, 1, 'N'), ( 1, 5, 1, 'Y'),( 1,41, 1, 'N'), ( 1, 6, 1, 'N'),( 2, 6, 1, 'N'),( 2, 7, 2, 'Y'),( 2, 8, 3, 'N'),( 3, 6, 1, 'N'),( 3, 7, 4, 'N'),( 3, 9, 2, 'N'), ( 3,10, 5, 'N'), ( 4, 9, 2, 'N'),( 4, 9, 3, 'N'),( 4,11, 1, 'N'),( 4,12, 1, 'N'),( 5, 9, 2, 'N'),( 6, 9, 2, 'N'),( 7,13, 1, 'N'),( 7,13, 2, 'N'),( 7,13, 3, 'N'), ( 7,14, 2, 'N'),( 7,15, 2, 'N'),( 3, 7, 1, 'N'), ( 8,16, 2, 'N'),( 9,16, 2, 'N'), ( 8,17, 1, 'N'), ( 8,18, 1, 'N'),( 8,19, 1, 'N'),( 8,20, 1, 'N'), ( 9,17, 1, 'N'),( 9,18, 1, 'N'),( 9,19, 1, 'N'),( 9,20, 1, 'N'), (10,16, 2, 'N'), (11,21, 2, 'N'), (11,21, 4, 'N'),(11,22, 1, 'N'), (11,23, 1, 'N'),(11,24, 1, 'N'),(11,25, 1, 'N'),(11,26, 1, 'N'), (13,28, 1, 'Y'),(13,28, 2, 'N'), (14,29, 1, 'N'),(14,30, 1, 'N')\")"
   ]
  },
  {
   "cell_type": "code",
   "execution_count": 80,
   "id": "e37094fd",
   "metadata": {},
   "outputs": [],
   "source": [
    "mycursor.execute(\"COMMIT\")"
   ]
  },
  {
   "cell_type": "code",
   "execution_count": 27,
   "id": "de281f53",
   "metadata": {},
   "outputs": [],
   "source": [
    "# S'ha creat primer l'estructura de la base de dades,i després lo propi amb les taules, configurant el tipus de dada que resideix en cada columna i les seves limitacions, característiques i connexions. Com els conceptes pels quals es connecten les diferents taules relacionals. A continuació, s'han afegit dades amb la funció \"INSERT INTO\" explicant en quina es volia afegir cada dada i que tingués sentit el que s'afegeia amb el tipus de dada. Exemple si era un tipus DATE, que fos una data YMD, que és la configuració per defecte."
   ]
  },
  {
   "cell_type": "code",
   "execution_count": 18,
   "id": "cb051c6a",
   "metadata": {},
   "outputs": [],
   "source": [
    "mycursor.execute(\"SELECT person_name,person_country,person_dod FROM movies.tb_person WHERE DATE(person_dod = NULL)\")\n"
   ]
  },
  {
   "cell_type": "code",
   "execution_count": 19,
   "id": "81fd193c",
   "metadata": {},
   "outputs": [
    {
     "data": {
      "text/plain": [
       "[]"
      ]
     },
     "execution_count": 19,
     "metadata": {},
     "output_type": "execute_result"
    }
   ],
   "source": [
    "mycursor.fetchall()"
   ]
  },
  {
   "cell_type": "code",
   "execution_count": 20,
   "id": "414d49a3",
   "metadata": {},
   "outputs": [],
   "source": [
    "mycursor.execute(\"SELECT person_name, person_country, person_dob,  IFNULL(person_dod,0) FROM movies.tb_person ORDER BY person_dob \")\n"
   ]
  },
  {
   "cell_type": "code",
   "execution_count": 21,
   "id": "2916f607",
   "metadata": {
    "scrolled": false
   },
   "outputs": [
    {
     "data": {
      "text/plain": [
       "[('Alfred Joseph Hitchcock',\n",
       "  'United Kingdom',\n",
       "  datetime.date(1899, 8, 13),\n",
       "  '1980-04-29'),\n",
       " ('Marlon Brando', 'United States', datetime.date(1924, 4, 3), '2004-07-01'),\n",
       " ('John Williams', 'United States', datetime.date(1928, 8, 8), '0'),\n",
       " ('Vera Miles', 'United States', datetime.date(1929, 8, 23), '0'),\n",
       " ('Sean Connery', 'Scotland', datetime.date(1930, 7, 8), '0'),\n",
       " ('Robert Duvall', 'United States', datetime.date(1931, 1, 5), '0'),\n",
       " ('Anthony Perkins', 'United States', datetime.date(1934, 4, 4), '1992-09-08'),\n",
       " ('Morgan Freeman', 'United States', datetime.date(1935, 10, 1), '0'),\n",
       " ('Francis Ford Coppola', 'United States', datetime.date(1939, 4, 7), '0'),\n",
       " ('Gary Kurtz', 'United States', datetime.date(1940, 7, 27), '0'),\n",
       " ('Martin Sheen', 'United States', datetime.date(1940, 8, 3), '0'),\n",
       " ('Harrison Ford', 'United States', datetime.date(1942, 7, 13), '0'),\n",
       " ('George Lucas', 'United States', datetime.date(1944, 5, 14), '0'),\n",
       " ('Hector Colome', 'Spain', datetime.date(1944, 10, 25), '2015-02-28'),\n",
       " ('Carmine Coppola', 'United States', datetime.date(1945, 7, 8), '0'),\n",
       " ('Steven Spielberg', 'United States', datetime.date(1946, 12, 18), '0'),\n",
       " ('Tim Robbins', 'United States', datetime.date(1949, 6, 7), '0'),\n",
       " ('Mel Gibson', 'Australia', datetime.date(1950, 8, 9), '0'),\n",
       " ('Tom Hanks', 'United States', datetime.date(1956, 7, 9), '0'),\n",
       " ('Emilio Martinez Lazaro', 'Spain', datetime.date(1956, 9, 9), '0'),\n",
       " ('Karra Elejalde', 'Spain', datetime.date(1960, 3, 6), '0'),\n",
       " ('Emilio Estevez', 'United States', datetime.date(1962, 5, 12), '0'),\n",
       " ('Ramón Estevez', 'United States', datetime.date(1963, 8, 7), '0'),\n",
       " ('Carmen Machi', 'Spain', datetime.date(1964, 8, 9), '0'),\n",
       " ('Charlie Sheen', 'United States', datetime.date(1965, 9, 3), '0'),\n",
       " ('Reneé Estevez', 'United States', datetime.date(1967, 4, 2), '0'),\n",
       " ('Catherine Zeta-Jones', 'Wales', datetime.date(1969, 9, 25), '0'),\n",
       " ('Robert Alamo', 'Spain', datetime.date(1970, 5, 6), '0'),\n",
       " ('Daniel Sanchez Arevalo', 'Spain', datetime.date(1970, 6, 8), '0'),\n",
       " ('Quim Gutierrez', 'Spain', datetime.date(1981, 3, 27), '0'),\n",
       " ('Veronica Echegui', 'Spain', datetime.date(1983, 3, 14), '0'),\n",
       " ('Taylor Levi Estevez', 'United States', datetime.date(1984, 6, 22), '0'),\n",
       " ('Dani Rovira', 'Spain', datetime.date(1984, 7, 1), '0'),\n",
       " ('Paula Speert Sheen', 'United States', datetime.date(1986, 1, 6), '0'),\n",
       " ('Paloma Rae Estevez', 'United States', datetime.date(1986, 2, 15), '0'),\n",
       " ('Clara Lago', 'Spain', datetime.date(1986, 4, 17), '0'),\n",
       " ('Patrick Criado', 'Spain', datetime.date(1995, 9, 23), '0'),\n",
       " ('Paula Jones-Sheen', 'United States', datetime.date(2003, 7, 6), '0'),\n",
       " ('Sam Sheen', 'United States', datetime.date(2004, 3, 9), '0'),\n",
       " ('Lola Sheen', 'United States', datetime.date(2005, 6, 1), '0'),\n",
       " ('Bob Sheen', 'United States', datetime.date(2009, 5, 1), '0'),\n",
       " ('Max Sheen', 'United States', datetime.date(2009, 5, 1), '0')]"
      ]
     },
     "execution_count": 21,
     "metadata": {},
     "output_type": "execute_result"
    }
   ],
   "source": [
    "mycursor.fetchall()"
   ]
  },
  {
   "cell_type": "code",
   "execution_count": 22,
   "id": "73545ea3",
   "metadata": {},
   "outputs": [],
   "source": [
    "mycursor.execute(\"SELECT genre_name FROM movies.tb_genre\")"
   ]
  },
  {
   "cell_type": "code",
   "execution_count": 23,
   "id": "de1ba60e",
   "metadata": {},
   "outputs": [
    {
     "data": {
      "text/plain": [
       "[('Acción',),\n",
       " ('Ciencia Ficción',),\n",
       " ('Comedia',),\n",
       " ('Drama',),\n",
       " ('Fantasía',),\n",
       " ('Melodrama',),\n",
       " ('Musical',),\n",
       " ('Romance',),\n",
       " ('Suspense',),\n",
       " ('Terror',),\n",
       " ('Bélico',),\n",
       " ('Documental',)]"
      ]
     },
     "execution_count": 23,
     "metadata": {},
     "output_type": "execute_result"
    }
   ],
   "source": [
    "mycursor.fetchall()\n"
   ]
  },
  {
   "cell_type": "code",
   "execution_count": 24,
   "id": "48683fe4",
   "metadata": {},
   "outputs": [],
   "source": [
    "mycursor.execute(\"SELECT COUNT(genre_name) FROM movies.tb_genre\")"
   ]
  },
  {
   "cell_type": "code",
   "execution_count": null,
   "id": "14436753",
   "metadata": {},
   "outputs": [],
   "source": [
    "mycursor.execute(\"SELECT * FROM \")#nom persona i nombre màxim de rols x peli dins la amteixa."
   ]
  },
  {
   "cell_type": "code",
   "execution_count": 29,
   "id": "e228f426",
   "metadata": {},
   "outputs": [
    {
     "data": {
      "text/plain": [
       "[]"
      ]
     },
     "execution_count": 29,
     "metadata": {},
     "output_type": "execute_result"
    }
   ],
   "source": [
    "mycursor.fetchall()"
   ]
  },
  {
   "cell_type": "code",
   "execution_count": 62,
   "id": "8e26ebf9",
   "metadata": {},
   "outputs": [],
   "source": [
    "mycursor.execute(\"SELECT person_name, count(*)  role_id FROM movies.tb_person,movies.tb_movie_person GROUP BY person_name\")"
   ]
  },
  {
   "cell_type": "code",
   "execution_count": 63,
   "id": "04625783",
   "metadata": {},
   "outputs": [
    {
     "data": {
      "text/plain": [
       "[('Taylor Levi Estevez', 50),\n",
       " ('Paloma Rae Estevez', 50),\n",
       " ('Paula Jones-Sheen', 50),\n",
       " ('Lola Sheen', 50),\n",
       " ('Sam Sheen', 50),\n",
       " ('Max Sheen', 50),\n",
       " ('Bob Sheen', 50),\n",
       " ('Paula Speert Sheen', 50),\n",
       " ('Reneé Estevez', 50),\n",
       " ('Ramón Estevez', 50),\n",
       " ('Emilio Estevez', 50),\n",
       " ('Charlie Sheen', 50),\n",
       " ('Tim Robbins', 50),\n",
       " ('Morgan Freeman', 50),\n",
       " ('Mel Gibson', 50),\n",
       " ('Sean Connery', 50),\n",
       " ('Patrick Criado', 50),\n",
       " ('Veronica Echegui', 50),\n",
       " ('Hector Colome', 50),\n",
       " ('Robert Alamo', 50),\n",
       " ('Quim Gutierrez', 50),\n",
       " ('Daniel Sanchez Arevalo', 50),\n",
       " ('Karra Elejalde', 50),\n",
       " ('Carmen Machi', 50),\n",
       " ('Clara Lago', 50),\n",
       " ('Dani Rovira', 50),\n",
       " ('Emilio Martinez Lazaro', 50),\n",
       " ('Vera Miles', 50),\n",
       " ('Anthony Perkins', 50),\n",
       " ('Alfred Joseph Hitchcock', 50),\n",
       " ('Catherine Zeta-Jones', 50),\n",
       " ('Tom Hanks', 50),\n",
       " ('John Williams', 50),\n",
       " ('Steven Spielberg', 50),\n",
       " ('Gary Kurtz', 50),\n",
       " ('George Lucas', 50),\n",
       " ('Harrison Ford', 50),\n",
       " ('Martin Sheen', 50),\n",
       " ('Robert Duvall', 50),\n",
       " ('Marlon Brando', 50),\n",
       " ('Carmine Coppola', 50),\n",
       " ('Francis Ford Coppola', 50)]"
      ]
     },
     "execution_count": 63,
     "metadata": {},
     "output_type": "execute_result"
    }
   ],
   "source": [
    "mycursor.fetchall()"
   ]
  },
  {
   "cell_type": "code",
   "execution_count": null,
   "id": "8422bea7",
   "metadata": {},
   "outputs": [],
   "source": [
    "mycursor.execute(\"INSERT INTO movies.tb_genre(genre_id, genre_name)VALUES (69, 'Documental')\")"
   ]
  },
  {
   "cell_type": "code",
   "execution_count": null,
   "id": "ceeb01e0",
   "metadata": {},
   "outputs": [],
   "source": [
    "mycursor.execute(\"DELETE FROM movies.tb_movie WHERE movie_id= '11'\")"
   ]
  },
  {
   "cell_type": "code",
   "execution_count": 30,
   "id": "600e09c0",
   "metadata": {},
   "outputs": [],
   "source": [
    "mycursor.execute(\"UPDATE movies.tb_movie SET movie_genre_id = 8 WHERE movie_title='Ocho apellidos Catalanes'\")"
   ]
  },
  {
   "cell_type": "code",
   "execution_count": 33,
   "id": "456bf9cc",
   "metadata": {},
   "outputs": [],
   "source": [
    "mycursor.execute(\"SELECT * FROM movies.tb_movie\")"
   ]
  },
  {
   "cell_type": "code",
   "execution_count": 34,
   "id": "e8571782",
   "metadata": {},
   "outputs": [
    {
     "data": {
      "text/plain": [
       "[(1,\n",
       "  'Apocalypse Now',\n",
       "  datetime.date(1979, 5, 10),\n",
       "  'Film',\n",
       "  11,\n",
       "  'OS_SGAD',\n",
       "  None,\n",
       "  None),\n",
       " (2,\n",
       "  'Star Wars:Episode IV - A New Hope',\n",
       "  datetime.date(1977, 5, 25),\n",
       "  'Film',\n",
       "  2,\n",
       "  'OS_SGAD',\n",
       "  None,\n",
       "  None),\n",
       " (3,\n",
       "  'Indiana Jones and the Temple of Doom',\n",
       "  datetime.date(1984, 5, 8),\n",
       "  'Film',\n",
       "  1,\n",
       "  'OS_SGAD',\n",
       "  None,\n",
       "  None),\n",
       " (4,\n",
       "  'The Terminal',\n",
       "  datetime.date(2004, 6, 18),\n",
       "  'Digital',\n",
       "  3,\n",
       "  'OS_SGAD',\n",
       "  None,\n",
       "  None),\n",
       " (5, 'Jaws', datetime.date(1975, 1, 1), 'Film', 10, 'OS_SGAD', None, None),\n",
       " (6,\n",
       "  'ET The Extraterrestrial',\n",
       "  datetime.date(1982, 7, 25),\n",
       "  'Film',\n",
       "  5,\n",
       "  'OS_SGAD',\n",
       "  None,\n",
       "  None),\n",
       " (7, 'Psycho', datetime.date(1960, 5, 6), 'Film', 9, 'OS_SGAD', None, None),\n",
       " (8,\n",
       "  'Ocho Apellidos Vascos',\n",
       "  datetime.date(2014, 3, 14),\n",
       "  'Digital',\n",
       "  3,\n",
       "  'OS_SGAD',\n",
       "  None,\n",
       "  None),\n",
       " (9,\n",
       "  'Ocho Apellidos Catalanes',\n",
       "  datetime.date(2016, 6, 9),\n",
       "  'Digital',\n",
       "  8,\n",
       "  'OS_SGAD',\n",
       "  None,\n",
       "  None),\n",
       " (10,\n",
       "  'El otro lado de la cama',\n",
       "  datetime.date(2002, 9, 4),\n",
       "  'Digital',\n",
       "  8,\n",
       "  'OS_SGAD',\n",
       "  None,\n",
       "  None),\n",
       " (11,\n",
       "  'La Gran Familia Española',\n",
       "  datetime.date(2012, 10, 15),\n",
       "  'Digital',\n",
       "  3,\n",
       "  'OS_SGAD',\n",
       "  None,\n",
       "  None),\n",
       " (12,\n",
       "  'El dia de la bestia',\n",
       "  datetime.date(1994, 12, 25),\n",
       "  'Film',\n",
       "  1,\n",
       "  'OS_SGAD',\n",
       "  None,\n",
       "  None),\n",
       " (13,\n",
       "  'Braveheart',\n",
       "  datetime.date(1995, 8, 8),\n",
       "  'Film',\n",
       "  4,\n",
       "  'OS_SGAD',\n",
       "  None,\n",
       "  None),\n",
       " (14,\n",
       "  'The Shawshank Redemption',\n",
       "  datetime.date(1992, 1, 7),\n",
       "  'Film',\n",
       "  4,\n",
       "  'OS_SGAD',\n",
       "  None,\n",
       "  None),\n",
       " (15,\n",
       "  'Las brujas de Zugarramurdi',\n",
       "  datetime.date(2009, 10, 7),\n",
       "  'Digital',\n",
       "  9,\n",
       "  'OS_SGAD',\n",
       "  None,\n",
       "  None),\n",
       " (16,\n",
       "  'Blade Runner',\n",
       "  datetime.date(1982, 12, 25),\n",
       "  'Digital',\n",
       "  2,\n",
       "  'OS_SGAD',\n",
       "  None,\n",
       "  None)]"
      ]
     },
     "execution_count": 34,
     "metadata": {},
     "output_type": "execute_result"
    }
   ],
   "source": [
    "mycursor.fetchall()"
   ]
  },
  {
   "cell_type": "code",
   "execution_count": null,
   "id": "ea83eb92",
   "metadata": {},
   "outputs": [],
   "source": []
  }
 ],
 "metadata": {
  "kernelspec": {
   "display_name": "Python 3 (ipykernel)",
   "language": "python",
   "name": "python3"
  },
  "language_info": {
   "codemirror_mode": {
    "name": "ipython",
    "version": 3
   },
   "file_extension": ".py",
   "mimetype": "text/x-python",
   "name": "python",
   "nbconvert_exporter": "python",
   "pygments_lexer": "ipython3",
   "version": "3.9.7"
  }
 },
 "nbformat": 4,
 "nbformat_minor": 5
}
